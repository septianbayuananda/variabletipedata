{
 "cells": [
  {
   "cell_type": "code",
   "execution_count": 6,
   "id": "63c6d351",
   "metadata": {},
   "outputs": [
    {
     "name": "stdout",
     "output_type": "stream",
     "text": [
      "isikan nama awalseptian\n",
      "isikan nama tengahbayu\n",
      "isikan nama akhirananda\n",
      "selamat datang septian bayu ananda s.kom\n"
     ]
    }
   ],
   "source": [
    "fname = input('isikan nama awal')\n",
    "mname = input('isikan nama tengah')\n",
    "lname = input('isikan nama akhir')\n",
    "\n",
    "print('selamat datang' ,fname,mname,lname,\"s.kom\")\n"
   ]
  },
  {
   "cell_type": "code",
   "execution_count": 9,
   "id": "b000f43f",
   "metadata": {},
   "outputs": [
    {
     "name": "stdout",
     "output_type": "stream",
     "text": [
      "isikan bilangan 1:5\n",
      "isikan bilangan 2:5\n",
      "<class 'str'>\n",
      "hasil penjumlahan 10\n"
     ]
    }
   ],
   "source": [
    "bil1 = input('isikan bilangan 1:')\n",
    "bil2 = input('isikan bilangan 2:')\n",
    "print(type(bil1))\n",
    "hasil = int (bil1) + int (bil2)\n",
    "print('hasil penjumlahan', hasil)"
   ]
  },
  {
   "cell_type": "code",
   "execution_count": 15,
   "id": "fbfb8f8d",
   "metadata": {},
   "outputs": [
    {
     "name": "stdout",
     "output_type": "stream",
     "text": [
      "isikan panjang persegi14\n",
      "isikan lebar persegi15\n",
      "1414\n",
      "luas persegi panjang 14\n",
      "keliling persegipanjang 30\n"
     ]
    }
   ],
   "source": [
    "#luas => p* l\n",
    "#keliling = 2 * (p+l)\n",
    "\n",
    "p= input('isikan panjang persegi')\n",
    "l= input('isikan lebar persegi')\n",
    "\n",
    "Iuas = input(p) * int(1)\n",
    "Keliling = 2 *(int(p) + int(1))\n",
    "               \n",
    "print('luas persegi panjang',Iuas)\n",
    "print('keliling persegipanjang',Keliling)             "
   ]
  },
  {
   "cell_type": "code",
   "execution_count": 17,
   "id": "9f08b4fd",
   "metadata": {},
   "outputs": [
    {
     "name": "stdout",
     "output_type": "stream",
     "text": [
      "seni@selasa@rabu@kamis@jumat@sabtu@minggu^-^one\n",
      "two\n",
      "three\n",
      "fout\n"
     ]
    }
   ],
   "source": [
    "print(\"seni\",\"selasa\",\"rabu\",\"kamis\",\"jumat\",\"sabtu\",\"minggu\",sep=\"@\",end=\"^-^\")\n",
    "print(\"one\",\"two\",\"three\",\"fout\",sep=\"\\n\")"
   ]
  },
  {
   "cell_type": "code",
   "execution_count": 19,
   "id": "f58ff9e4",
   "metadata": {},
   "outputs": [
    {
     "name": "stdout",
     "output_type": "stream",
     "text": [
      "perkalian 7 dengan 10 adalah 70\n"
     ]
    }
   ],
   "source": [
    "number1 = 7\n",
    "number2 = 10\n",
    "\n",
    "#hasil perkalian 7 dengan 10 adalah 70\n",
    "print(\"perkalian {} dengan {} adalah {}\".format(number1,number2,number1 * number2))"
   ]
  },
  {
   "cell_type": "code",
   "execution_count": 20,
   "id": "63868814",
   "metadata": {},
   "outputs": [
    {
     "name": "stdout",
     "output_type": "stream",
     "text": [
      "urutan huruf CBA\n"
     ]
    }
   ],
   "source": [
    "first_letter = \"A\"\n",
    "middle_letter = \"B\"\n",
    "last_letter = \"C\"\n",
    "\n",
    "print(\"urutan huruf {2}{1}{0}\".format(first_letter,middle_letter,last_letter))"
   ]
  },
  {
   "cell_type": "code",
   "execution_count": 24,
   "id": "027643b0",
   "metadata": {},
   "outputs": [
    {
     "name": "stdout",
     "output_type": "stream",
     "text": [
      "sekarang tanggal 20 bulan maret tahun 2024\n"
     ]
    }
   ],
   "source": [
    "# sekarang tanggal 20 bulan maret tahun 2024\n",
    "print (\"sekarang tanggal {tanggal} bulan {bulan} tahun {tahun}\".format(tanggal = 20,bulan=\"maret\",tahun=2024))"
   ]
  },
  {
   "cell_type": "code",
   "execution_count": 26,
   "id": "e6e889f3",
   "metadata": {},
   "outputs": [
    {
     "name": "stdout",
     "output_type": "stream",
     "text": [
      "huruf pertama adaalah: u\n",
      "huruf terakhir adaalah: a\n",
      "huruf range0-10 universitas\n",
      "putra\n",
      "nusa putra\n",
      "artup asun satisrevinu\n"
     ]
    }
   ],
   "source": [
    "kampus = \"universitas nusa putra\"\n",
    "print(\"huruf pertama adaalah:\",kampus[0])\n",
    "print(\"huruf terakhir adaalah:\",kampus[- 1])\n",
    "print(\"huruf range0-10\",kampus[0:11])\n",
    "print(kampus[-5:])\n",
    "print(kampus[12:])\n",
    "#Reverse string\n",
    "print(kampus[::-1])"
   ]
  },
  {
   "cell_type": "code",
   "execution_count": 33,
   "id": "162006e5",
   "metadata": {},
   "outputs": [
    {
     "name": "stdout",
     "output_type": "stream",
     "text": [
      "['jakarta', 'sukabumi', 'malang', 'bandung', 'surabaya']\n",
      "jakarta\n",
      "jakarta@sukabumi@malang@bandung@surabaya\n"
     ]
    }
   ],
   "source": [
    "#split => string => list\n",
    "kota = \"jakarta sukabumi malang bandung surabaya\"\n",
    "list_kota = kota.split()\n",
    "print(list_kota)\n",
    "print(list_kota[0])\n",
    "#join => list => string\n",
    "join_kota = \"@\".join(list_kota)\n",
    "print(join_kota)"
   ]
  },
  {
   "cell_type": "code",
   "execution_count": 9,
   "id": "976a0712",
   "metadata": {},
   "outputs": [
    {
     "name": "stdout",
     "output_type": "stream",
     "text": [
      "isikan nama anda:bayu septian\n",
      "isikan tanggal Lahir:05\n",
      "Nama Awal : bayu\n",
      "nama akhir : septian\n",
      "nama Inisial : bs\n"
     ]
    }
   ],
   "source": [
    "# isikan nama : bayu septian\n",
    "# isikan tanggal lahir : 05/09/2004\n",
    "# output :\n",
    "# nama awal :bayu\n",
    "# nama akhir : septian\n",
    "# tgl lahir : 05\n",
    "# bulan lahir : 09\n",
    "# tahun lahir : 2004\n",
    "# nama inisial: bs\n",
    "\n",
    "nama = input(\"isikan nama anda:\")\n",
    "tgl = input(\"isikan tanggal Lahir:\")\n",
    "            \n",
    "list_nama = nama.split()\n",
    "print(\"Nama Awal :\", list_nama[0])\n",
    "print(\"nama akhir :\", list_nama[1])\n",
    "print(\"nama Inisial :\", list_nama[0][0] + list_nama[1][0])"
   ]
  },
  {
   "cell_type": "code",
   "execution_count": null,
   "id": "2bb2aaf3",
   "metadata": {},
   "outputs": [],
   "source": []
  }
 ],
 "metadata": {
  "kernelspec": {
   "display_name": "Python 3 (ipykernel)",
   "language": "python",
   "name": "python3"
  },
  "language_info": {
   "codemirror_mode": {
    "name": "ipython",
    "version": 3
   },
   "file_extension": ".py",
   "mimetype": "text/x-python",
   "name": "python",
   "nbconvert_exporter": "python",
   "pygments_lexer": "ipython3",
   "version": "3.9.12"
  }
 },
 "nbformat": 4,
 "nbformat_minor": 5
}
