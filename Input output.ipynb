{
 "cells": [
  {
   "cell_type": "code",
   "execution_count": null,
   "id": "81ca8a0c",
   "metadata": {},
   "outputs": [
    {
     "name": "stdout",
     "output_type": "stream",
     "text": [
      "insert your frist namersiman\n",
      "insert your middle namemaulana\n"
     ]
    }
   ],
   "source": [
    "frist_name = input('insert your frist name')\n",
    "middle_name = input('insert your middle name')\n",
    "last_name = input('insert your last name')\n",
    "\n",
    "print(\"Hello\", frist_name,middle_name,last_name, \"!!\")"
   ]
  },
  {
   "cell_type": "markdown",
   "id": "47c355c1",
   "metadata": {},
   "source": [
    "Program Hitung Luas dan Keliling Persegi Panjang"
   ]
  },
  {
   "cell_type": "code",
   "execution_count": 3,
   "id": "d8920c2c",
   "metadata": {},
   "outputs": [
    {
     "name": "stdout",
     "output_type": "stream",
     "text": [
      "insert nilai panjang10\n",
      "inser nilai luas20\n",
      "luas = 200\n",
      "keliling= 90\n"
     ]
    }
   ],
   "source": [
    "nilai_p = input('insert nilai panjang')\n",
    "nilai_1 = input('inser nilai luas')\n",
    "\n",
    "luas =int(nilai_p) * int(nilai_1)\n",
    "keliling = 3 * (int(nilai_p) + int(nilai_1))\n",
    "\n",
    "print(\"luas =\", luas)\n",
    "print(\"keliling=\", keliling)"
   ]
  },
  {
   "cell_type": "code",
   "execution_count": 6,
   "id": "655903ab",
   "metadata": {},
   "outputs": [
    {
     "name": "stdout",
     "output_type": "stream",
     "text": [
      "07-agustus-2002\n",
      "07\n",
      "agustus\n",
      "2002\n",
      "07/agustus/2002\n"
     ]
    }
   ],
   "source": [
    "print(\"07\", \"agustus\", \"2002\",sep='-')\n",
    "print(\"07\", \"agustus\", \"2002\",sep='\\n')\n",
    "print(\"07\", \"agustus\", \"2002\",sep='/')"
   ]
  },
  {
   "cell_type": "markdown",
   "id": "641ff47b",
   "metadata": {},
   "source": [
    "<h1>Memformat dengan index<h1>"
   ]
  },
  {
   "cell_type": "code",
   "execution_count": 9,
   "id": "dfe7b744",
   "metadata": {},
   "outputs": [
    {
     "ename": "NameError",
     "evalue": "name 'month_1' is not defined",
     "output_type": "error",
     "traceback": [
      "\u001b[1;31m---------------------------------------------------------------------------\u001b[0m",
      "\u001b[1;31mNameError\u001b[0m                                 Traceback (most recent call last)",
      "Input \u001b[1;32mIn [9]\u001b[0m, in \u001b[0;36m<cell line: 5>\u001b[1;34m()\u001b[0m\n\u001b[0;32m      2\u001b[0m Month_2 \u001b[38;5;241m=\u001b[39m \u001b[38;5;124m\"\u001b[39m\u001b[38;5;124mFebruary\u001b[39m\u001b[38;5;124m\"\u001b[39m\n\u001b[0;32m      3\u001b[0m Month_3 \u001b[38;5;241m=\u001b[39m \u001b[38;5;124m\"\u001b[39m\u001b[38;5;124mMarch\u001b[39m\u001b[38;5;124m\"\u001b[39m\n\u001b[1;32m----> 5\u001b[0m \u001b[38;5;28mprint\u001b[39m(\u001b[38;5;124m\"\u001b[39m\u001b[38;5;124mname of month \u001b[39m\u001b[38;5;132;01m{0}\u001b[39;00m\u001b[38;5;124m,\u001b[39m\u001b[38;5;132;01m{1}\u001b[39;00m\u001b[38;5;124m\"\u001b[39m\u001b[38;5;241m.\u001b[39m \u001b[38;5;28mformat\u001b[39m(\u001b[43mmonth_1\u001b[49m,month_2))\n",
      "\u001b[1;31mNameError\u001b[0m: name 'month_1' is not defined"
     ]
    }
   ],
   "source": [
    "Month_1 =\"january\"\n",
    "Month_2 = \"February\"\n",
    "Month_3 = \"March\"\n",
    " \n",
    "print(\"name of month {0},{1}\". format(month_1,month_2))"
   ]
  },
  {
   "cell_type": "code",
   "execution_count": 10,
   "id": "3e3db8d4",
   "metadata": {},
   "outputs": [
    {
     "ename": "SyntaxError",
     "evalue": "invalid syntax (4192848419.py, line 2)",
     "output_type": "error",
     "traceback": [
      "\u001b[1;36m  Input \u001b[1;32mIn [10]\u001b[1;36m\u001b[0m\n\u001b[1;33m    print(\"1\",\"3\",\"5\",\"7\", sep= )\u001b[0m\n\u001b[1;37m                                ^\u001b[0m\n\u001b[1;31mSyntaxError\u001b[0m\u001b[1;31m:\u001b[0m invalid syntax\n"
     ]
    }
   ],
   "source": [
    "print(\"1\",\"3\",\"5\",\"7\",sep=\"*\",end=\".\" '\\n')\n",
    "print(\"1\",\"3\",\"5\",\"7\", sep= )"
   ]
  },
  {
   "cell_type": "markdown",
   "id": "9a47aea4",
   "metadata": {},
   "source": [
    "<h1>fungsi<h1>"
   ]
  },
  {
   "cell_type": "code",
   "execution_count": 28,
   "id": "25315f97",
   "metadata": {},
   "outputs": [
    {
     "ename": "SyntaxError",
     "evalue": "unmatched ')' (2006061545.py, line 4)",
     "output_type": "error",
     "traceback": [
      "\u001b[1;36m  Input \u001b[1;32mIn [28]\u001b[1;36m\u001b[0m\n\u001b[1;33m    print('@'.join(student_name.split)(','))) #merubah dari list ke string\u001b[0m\n\u001b[1;37m                                            ^\u001b[0m\n\u001b[1;31mSyntaxError\u001b[0m\u001b[1;31m:\u001b[0m unmatched ')'\n"
     ]
    }
   ],
   "source": [
    "nama_siswa =\"Mamat,Memet,Mahjong\"\n",
    "\n",
    "print(nama_siswa.split(',')) #Merubah dari sring ke list\n",
    "print('@'.join(student_name.split)(','))) #merubah dari list ke string"
   ]
  },
  {
   "cell_type": "code",
   "execution_count": null,
   "id": "32944e66",
   "metadata": {},
   "outputs": [],
   "source": [
    "name = input(\"insert your name\")\n",
    "birthday = input(\"insert your birthday\")\n",
    "\n",
    "birth = birthday.split('/')\n",
    "names = name.split()\n",
    "\n",
    "print(f\"your name: {name}\")\n",
    "print(f\"date : {birth[0],\n",
    "      \n",
    "      "
   ]
  }
 ],
 "metadata": {
  "kernelspec": {
   "display_name": "Python 3 (ipykernel)",
   "language": "python",
   "name": "python3"
  },
  "language_info": {
   "codemirror_mode": {
    "name": "ipython",
    "version": 3
   },
   "file_extension": ".py",
   "mimetype": "text/x-python",
   "name": "python",
   "nbconvert_exporter": "python",
   "pygments_lexer": "ipython3",
   "version": "3.9.12"
  }
 },
 "nbformat": 4,
 "nbformat_minor": 5
}
