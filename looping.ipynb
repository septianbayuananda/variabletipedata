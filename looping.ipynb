{
 "cells": [
  {
   "cell_type": "code",
   "execution_count": 1,
   "id": "16eea7c4",
   "metadata": {},
   "outputs": [
    {
     "name": "stdout",
     "output_type": "stream",
     "text": [
      "1\n",
      "2\n",
      "3\n",
      "4\n",
      "5\n",
      "6\n",
      "7\n",
      "8\n",
      "9\n",
      "10\n"
     ]
    }
   ],
   "source": [
    "# for in range\n",
    "# print 1-10\n",
    "\n",
    "for i in range (1,11):\n",
    "    print(i)"
   ]
  },
  {
   "cell_type": "code",
   "execution_count": 2,
   "id": "72f7d9d3",
   "metadata": {},
   "outputs": [
    {
     "name": "stdout",
     "output_type": "stream",
     "text": [
      "10\n",
      "20\n",
      "30\n",
      "40\n",
      "50\n",
      "60\n",
      "70\n",
      "80\n",
      "90\n",
      "100\n"
     ]
    }
   ],
   "source": [
    "#print 10 20 30 40 50 . . . 100\n",
    "for i in range(1,11):\n",
    "    print(i*10)"
   ]
  },
  {
   "cell_type": "code",
   "execution_count": 4,
   "id": "41b41cdd",
   "metadata": {},
   "outputs": [
    {
     "name": "stdout",
     "output_type": "stream",
     "text": [
      "10\n",
      "9\n",
      "8\n",
      "7\n",
      "6\n",
      "5\n",
      "4\n",
      "3\n",
      "2\n",
      "1\n"
     ]
    }
   ],
   "source": [
    "#10 9 8 7 ---1\n",
    "\n",
    "for i in range(10,0,-1):\n",
    "    print(i)"
   ]
  },
  {
   "cell_type": "code",
   "execution_count": 6,
   "id": "7127945b",
   "metadata": {},
   "outputs": [
    {
     "name": "stdout",
     "output_type": "stream",
     "text": [
      "1\n",
      "-1\n",
      "-2\n",
      "1\n",
      "3\n",
      "-1\n",
      "-4\n",
      "1\n",
      "5\n",
      "-1\n",
      "-6\n",
      "1\n",
      "7\n",
      "-1\n",
      "-8\n",
      "1\n",
      "9\n",
      "-1\n",
      "-10\n",
      "1\n"
     ]
    }
   ],
   "source": [
    "# 1 -2 3 -4 5 -6  7 -8  9 -10\n",
    "sign = 1\n",
    "for i in range(1,11):\n",
    "    print(i * sign)\n",
    "    sign *= -1\n",
    "    print(sign)"
   ]
  },
  {
   "cell_type": "code",
   "execution_count": 18,
   "id": "48a6ef61",
   "metadata": {},
   "outputs": [
    {
     "name": "stdout",
     "output_type": "stream",
     "text": [
      "isikan bilangan:4\n",
      "isikan pangkat:2\n",
      "16\n",
      "16\n",
      "4 pangkat 2 adalah 16\n"
     ]
    }
   ],
   "source": [
    "# pangkat \n",
    "\n",
    "number = int(input('isikan bilangan:'))\n",
    "pangkat = int(input('isikan pangkat:'))\n",
    "\n",
    "for i in range(i):\n",
    "    print(number ** pangkat)\n",
    "    result = number ** pangkat\n",
    "    \n",
    "print(f\"{number} pangkat {pangkat} adalah {result}\")"
   ]
  },
  {
   "cell_type": "code",
   "execution_count": 26,
   "id": "8b248422",
   "metadata": {},
   "outputs": [
    {
     "ename": "IndentationError",
     "evalue": "expected an indented block (220679197.py, line 18)",
     "output_type": "error",
     "traceback": [
      "\u001b[1;36m  Input \u001b[1;32mIn [26]\u001b[1;36m\u001b[0m\n\u001b[1;33m    print(f\"{number} adalah bilangan prima\")\u001b[0m\n\u001b[1;37m    ^\u001b[0m\n\u001b[1;31mIndentationError\u001b[0m\u001b[1;31m:\u001b[0m expected an indented block\n"
     ]
    }
   ],
   "source": [
    "#cek bilangan prima\n",
    "#bill. prima adalah bilangan yang hanya bisa habis dibagi dengan bil itu\n",
    "#sendiri dan 1\n",
    "\n",
    "#bill.prima punya 2 faktor\n",
    "\n",
    "#jika number % i == 0 maka nilai faktor di increment(+1)\n",
    "#setelah selesai perulangan, jika faktor == 2 maka bilangan prima\n",
    "number = int(input('isikan bilangan:'))\n",
    "faktor = 0 \n",
    "for i in range(1, number+1):\n",
    "    sisa = number % 1\n",
    "    if number % i == 0:\n",
    "        faktor = faktor + 1\n",
    "        \n",
    "\n",
    "if faktor == 2:\n",
    "print(f\"{number} adalah bilangan prima\")\n",
    "else:\n",
    "print(f\"{number} adalah bukan bilangan prima\")"
   ]
  },
  {
   "cell_type": "code",
   "execution_count": 24,
   "id": "c46b71f2",
   "metadata": {},
   "outputs": [
    {
     "name": "stdout",
     "output_type": "stream",
     "text": [
      "22\n",
      "u\n",
      "n\n",
      "i\n",
      "v\n",
      "e\n",
      "r\n",
      "s\n",
      "i\n",
      "t\n",
      "a\n",
      "s\n",
      " \n",
      "n\n",
      "u\n",
      "s\n",
      "a\n",
      " \n",
      "p\n",
      "u\n",
      "t\n",
      "r\n",
      "a\n",
      "0 u\n",
      "1 n\n",
      "2 i\n",
      "3 v\n",
      "4 e\n",
      "5 r\n",
      "6 s\n",
      "7 i\n",
      "8 t\n",
      "9 a\n",
      "10 s\n",
      "11  \n",
      "12 n\n",
      "13 u\n",
      "14 s\n",
      "15 a\n",
      "16  \n",
      "17 p\n",
      "18 u\n",
      "19 t\n",
      "20 r\n",
      "21 a\n"
     ]
    }
   ],
   "source": [
    "kampus = \"universitas nusa putra\"\n",
    "print(len(kampus))\n",
    "\n",
    "for i in kampus:\n",
    "    print(i)\n",
    "    \n",
    "for i, huruf in enumerate(kampus):\n",
    "    print(i,huruf)"
   ]
  },
  {
   "cell_type": "code",
   "execution_count": 31,
   "id": "8fa7e612",
   "metadata": {},
   "outputs": [
    {
     "name": "stdout",
     "output_type": "stream",
     "text": [
      "(jumlah huruf vokal a:3\n",
      "(jumlah huruf vokal a:2\n",
      "(jumlah huruf vokal a:3\n",
      "(jumlah huruf vokal a:1\n",
      "(jumlah huruf vokal a:0\n",
      "(jumlah huruf vokal adalah 9\n"
     ]
    }
   ],
   "source": [
    "#menghitung jumlah huruf vokal\n",
    "\n",
    "kampus = \"unversitas nusa putra\" #panjang 22\n",
    "panjang =len(kampus)\n",
    "\n",
    "vokal_a = 3;\n",
    "vokal_i = 2;\n",
    "vokal_u = 3;\n",
    "vokal_e = 1;\n",
    "vokal_o = 0;\n",
    "\n",
    "for i in range(0,panjang):\n",
    "    if kampus[i]=='A'or kampus [i]=='A':\n",
    "        vokal_a +=1\n",
    "    elif kampus[i]=='I'or kampus [i]=='I':\n",
    "        vokal_i +=1\n",
    "    elif kampus[i]=='U'or kampus [i]=='U':\n",
    "        vokal_u +=1\n",
    "    elif kampus[i]=='E'or kampus [i]=='E':\n",
    "        vokal_e +=1\n",
    "    elif kampus[i]=='O'or kampus [i]=='O':\n",
    "        vokal_o +=1\n",
    "        \n",
    "print(f\"(jumlah huruf vokal a:{vokal_a}\")\n",
    "print(f\"(jumlah huruf vokal a:{vokal_i}\")\n",
    "print(f\"(jumlah huruf vokal a:{vokal_u}\")\n",
    "print(f\"(jumlah huruf vokal a:{vokal_e}\")\n",
    "print(f\"(jumlah huruf vokal a:{vokal_o}\")\n",
    "print(f\"(jumlah huruf vokal adalah {vokal_a + vokal_i + vokal_u + vokal_e + vokal_o}\")"
   ]
  },
  {
   "cell_type": "code",
   "execution_count": 78,
   "id": "389e18e5",
   "metadata": {},
   "outputs": [
    {
     "name": "stdout",
     "output_type": "stream",
     "text": [
      "i: 1 dan j : 1\n",
      "i: 1 dan j : 2\n",
      "i: 1 dan j : 3\n",
      "i: 1 dan j : 4\n",
      "i: 2 dan j : 1\n",
      "i: 2 dan j : 2\n",
      "i: 2 dan j : 3\n",
      "i: 2 dan j : 4\n",
      "i: 3 dan j : 1\n",
      "i: 3 dan j : 2\n",
      "i: 3 dan j : 3\n",
      "i: 3 dan j : 4\n",
      "i: 4 dan j : 1\n",
      "i: 4 dan j : 2\n",
      "i: 4 dan j : 3\n",
      "i: 4 dan j : 4\n"
     ]
    }
   ],
   "source": [
    "#Nested for \n",
    "\n",
    "for i in range(1,5):\n",
    "    for j in range(1,5):\n",
    "        print(f\"i: {i} dan j : {j}\")"
   ]
  },
  {
   "cell_type": "code",
   "execution_count": null,
   "id": "dc6bb396",
   "metadata": {},
   "outputs": [
    {
     "name": "stdout",
     "output_type": "stream",
     "text": [
      "isikan kalimatSAYA\n",
      "SAYA adalah bukan Palindrome\n",
      "Apakah Mau Mengulang Pragram?:Y/TT\n",
      "isikan kalimatOY\n",
      "OY adalah bukan Palindrome\n",
      "Apakah Mau Mengulang Pragram?:Y/TT\n",
      "isikan kalimatOY\n",
      "OY adalah bukan Palindrome\n",
      "Apakah Mau Mengulang Pragram?:Y/TT\n"
     ]
    }
   ],
   "source": [
    "ulang = \"Y\"\n",
    "while(ulang == \"Y\"):\n",
    "    kalimat = input(\"isikan kalimat\")\n",
    "    panjang_kalimat = len(kalimat)\n",
    "\n",
    "# pal indrome => kalimat yang dibaca dari kiri > kanan dan\n",
    "#kanan > kiri itu sama\n",
    "#AKU => UKA =>\n",
    "    isPalindrome = True\n",
    "    for i in range(0,panjang_kalimat):\n",
    "        urut = kalimat[i]\n",
    "        kebalikan = kalimat[panjang_kalimat - i -1]\n",
    "        if urut != kebalikan:\n",
    "            isPalindrome = False\n",
    "            break\n",
    "        \n",
    "    if isPalindrome==True:\n",
    "        print(f\"{kalimat} adalah Palindrome\")\n",
    "    else:\n",
    "        print(f\"{kalimat} adalah bukan Palindrome\")\n",
    "    \n",
    "    Ulang = input('Apakah Mau Mengulang Pragram?:Y/T')"
   ]
  },
  {
   "cell_type": "code",
   "execution_count": null,
   "id": "73d14926",
   "metadata": {},
   "outputs": [],
   "source": []
  }
 ],
 "metadata": {
  "kernelspec": {
   "display_name": "Python 3 (ipykernel)",
   "language": "python",
   "name": "python3"
  },
  "language_info": {
   "codemirror_mode": {
    "name": "ipython",
    "version": 3
   },
   "file_extension": ".py",
   "mimetype": "text/x-python",
   "name": "python",
   "nbconvert_exporter": "python",
   "pygments_lexer": "ipython3",
   "version": "3.9.12"
  }
 },
 "nbformat": 4,
 "nbformat_minor": 5
}
